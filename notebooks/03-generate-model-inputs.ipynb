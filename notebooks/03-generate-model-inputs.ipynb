{
 "cells": [
  {
   "cell_type": "code",
   "execution_count": null,
   "id": "83d1f31f-ebce-43ca-b04e-91b1f66512f0",
   "metadata": {
    "tags": []
   },
   "outputs": [],
   "source": [
    "# Global Imports\n",
    "import os\n",
    "import warnings\n",
    "\n",
    "import geopandas as gpd\n",
    "import matplotlib.pyplot as plt\n",
    "import numpy as np\n",
    "import pandas as pd\n",
    "import rioxarray\n",
    "import xagg as xa\n",
    "import xarray as xr\n",
    "from shapely import wkt\n",
    "from shapely.geometry import mapping\n",
    "\n",
    "warnings.filterwarnings(\"ignore\", message=\".*initial implementation of Parquet.*\")"
   ]
  },
  {
   "cell_type": "code",
   "execution_count": null,
   "id": "08f4c277-83f3-4b68-85bb-55798c6d91f6",
   "metadata": {},
   "outputs": [],
   "source": [
    "# Load Datasets"
   ]
  },
  {
   "cell_type": "code",
   "execution_count": null,
   "id": "d96acbd0-322e-4617-a111-c971381f1541",
   "metadata": {},
   "outputs": [],
   "source": [
    "# Load CHIRPS\n",
    "chirps_ds = xr.open_dataset(\"../data/processed/chirps.nc\")"
   ]
  },
  {
   "cell_type": "code",
   "execution_count": null,
   "id": "5df45008-6ddf-4e77-bb45-9129831af959",
   "metadata": {},
   "outputs": [],
   "source": [
    "# Load Terra\n",
    "terra_ds = xr.open_dataset(\"../data/processed/terra.nc\")"
   ]
  },
  {
   "cell_type": "code",
   "execution_count": null,
   "id": "7fd5f3b1-0b9f-4cb0-b481-f802ca41d57b",
   "metadata": {},
   "outputs": [],
   "source": [
    "region_file = \"../data/raw/region/region.geojson\"\n",
    "gdf = gpd.read_file(region_file, crs=\"EPSG:4326\")"
   ]
  },
  {
   "cell_type": "code",
   "execution_count": null,
   "id": "023b2ef1-f703-4a51-a4a2-b58cc2e72b0c",
   "metadata": {},
   "outputs": [],
   "source": [
    "# Loading GRACE dataset\n",
    "grace = xr.open_dataset(\"../data/processed/grace.nc\")[\"lwe_thickness\"].to_dataset()"
   ]
  },
  {
   "cell_type": "code",
   "execution_count": null,
   "id": "f2f9485b-68cf-48ed-9238-625e462a7688",
   "metadata": {},
   "outputs": [],
   "source": [
    "# Generate Target Grid\n",
    "final_grace_df = grace.to_dataframe().reset_index().drop(columns=[\"WGS84\"])\n",
    "grace_coords_df = final_grace_df[[\"lat\", \"lon\"]].drop_duplicates()\n",
    "\n",
    "lat_min, lat_max = gdf.geometry.bounds.miny[0], gdf.geometry.bounds.maxy[0]\n",
    "lon_min, lon_max = gdf.geometry.bounds.minx[0], gdf.geometry.bounds.maxx[0]\n",
    "\n",
    "target_lats = np.arange(lat_min, lat_max, 0.008)\n",
    "\n",
    "target_lons = np.arange(lon_min, lon_max, 0.008)\n",
    "\n",
    "target_ds = xr.Dataset({\"lat\": ([\"lat\"], target_lats), \"lon\": ([\"lon\"], target_lons)})"
   ]
  },
  {
   "cell_type": "code",
   "execution_count": null,
   "id": "7f8b58de-7dfd-419e-a210-d1e9d9e7f6fc",
   "metadata": {},
   "outputs": [],
   "source": [
    "target_ds = target_ds.assign_coords(time=grace.time)"
   ]
  },
  {
   "cell_type": "code",
   "execution_count": null,
   "id": "34022a34-c358-4f74-9093-0b19fb4b145c",
   "metadata": {},
   "outputs": [],
   "source": [
    "target_ds"
   ]
  },
  {
   "cell_type": "code",
   "execution_count": null,
   "id": "30e8b1c5-b145-442e-bfbb-f1033c608da4",
   "metadata": {},
   "outputs": [],
   "source": [
    "len(target_ds.lat)"
   ]
  },
  {
   "cell_type": "code",
   "execution_count": null,
   "id": "077c80bb-aa6b-4559-8e11-092a1f798309",
   "metadata": {},
   "outputs": [],
   "source": [
    "final_target_ds = target_ds.assign(\n",
    "    precipitation=(\n",
    "        (\"lat\", \"lon\", \"time\"),\n",
    "        np.random.rand(\n",
    "            len(target_ds.lat) * len(target_ds.lon) * len(target_ds.time)\n",
    "        ).reshape(len(target_ds.lat), len(target_ds.lon), len(target_ds.time)),\n",
    "    )\n",
    ")"
   ]
  },
  {
   "cell_type": "code",
   "execution_count": null,
   "id": "050c0975-ee73-4fde-9355-e777789d7f96",
   "metadata": {},
   "outputs": [],
   "source": [
    "final_target_ds[\"precipitation\"] = final_target_ds[\"precipitation\"].rio.write_crs(\n",
    "    \"epsg:4326\"\n",
    ")"
   ]
  },
  {
   "cell_type": "code",
   "execution_count": null,
   "id": "decf35ed-bfbe-49a5-b484-84b6c6e01b3e",
   "metadata": {},
   "outputs": [],
   "source": [
    "final_target_ds.rio.set_spatial_dims(x_dim=\"lon\", y_dim=\"lat\", inplace=True)\n",
    "clipped_target_ds = final_target_ds.rio.clip(\n",
    "    gdf.geometry.apply(mapping), gdf.crs, all_touched=True, drop=True\n",
    ")"
   ]
  },
  {
   "cell_type": "code",
   "execution_count": null,
   "id": "9ea77c2d-fff2-44c4-a2e2-4deac1035a8e",
   "metadata": {},
   "outputs": [],
   "source": [
    "clipped_target_ds.to_netcdf(\"../data/processed/target.nc\")"
   ]
  },
  {
   "cell_type": "code",
   "execution_count": null,
   "id": "682731c8-a49b-46b3-9bee-757cc8cb9172",
   "metadata": {},
   "outputs": [],
   "source": [
    "# Save target polygons. Takes forever to run. That's why saving the output."
   ]
  },
  {
   "cell_type": "code",
   "execution_count": null,
   "id": "c68c0a8e-eabc-48ae-a598-b563085cdcb7",
   "metadata": {},
   "outputs": [],
   "source": [
    "target_polygons = xa.core.create_raster_polygons(clipped_target_ds)\n",
    "\n",
    "target_polygons[\"gdf_pixels\"].drop(columns=[\"pix_idx\"]).to_csv(\n",
    "    \"../data/processed/target_polygons.csv\", index=False\n",
    ")"
   ]
  },
  {
   "cell_type": "code",
   "execution_count": null,
   "id": "cddb2926-4d81-4ef6-b022-3c511f5e444a",
   "metadata": {},
   "outputs": [],
   "source": [
    "target_gdf = target_polygons[\"gdf_pixels\"]"
   ]
  },
  {
   "cell_type": "code",
   "execution_count": null,
   "id": "59cb045f-6fa3-4621-a96a-89e0da8fbd11",
   "metadata": {},
   "outputs": [],
   "source": [
    "%%time\n",
    "clip_target = target_gdf.overlay(gdf)"
   ]
  },
  {
   "cell_type": "code",
   "execution_count": null,
   "id": "cb1a7757-5d5c-4835-aece-f1bf7d683d6f",
   "metadata": {},
   "outputs": [],
   "source": [
    "final_target_gdf = target_gdf[target_gdf.pix_idx.isin(clip_target.pix_idx)]"
   ]
  },
  {
   "cell_type": "code",
   "execution_count": null,
   "id": "9aec020c-c62e-484d-aceb-4108bdbaad7f",
   "metadata": {},
   "outputs": [],
   "source": [
    "final_target_gdf.drop(columns=[\"pix_idx\"]).to_csv(\n",
    "    \"../data/processed/clipped_target_polygons.csv\", index=False\n",
    ")"
   ]
  },
  {
   "cell_type": "code",
   "execution_count": null,
   "id": "61c963d7-bbe3-455c-b669-6c20070e5602",
   "metadata": {},
   "outputs": [],
   "source": [
    "# Generate GRACE Polygons\n",
    "grace_polygons = xa.core.create_raster_polygons(grace)"
   ]
  },
  {
   "cell_type": "code",
   "execution_count": null,
   "id": "8dc31222-3597-4a9a-9d74-0b710d1da219",
   "metadata": {},
   "outputs": [],
   "source": [
    "%%time\n",
    "clip_grace = grace_polygons[\"gdf_pixels\"].overlay(gdf)"
   ]
  },
  {
   "cell_type": "code",
   "execution_count": null,
   "id": "0268abfd-72e3-4290-8ecc-091184ecd8bd",
   "metadata": {},
   "outputs": [],
   "source": [
    "final_grace_gdf = grace_polygons[\"gdf_pixels\"][\n",
    "    grace_polygons[\"gdf_pixels\"].pix_idx.isin(clip_grace.pix_idx)\n",
    "]"
   ]
  },
  {
   "cell_type": "code",
   "execution_count": null,
   "id": "27bbda29-5065-4253-902c-4751c426db17",
   "metadata": {},
   "outputs": [],
   "source": [
    "final_grace_gdf.drop(columns=[\"pix_idx\"]).to_csv(\n",
    "    \"../data/processed/grace_polygons.csv\", index=False\n",
    ")"
   ]
  },
  {
   "cell_type": "code",
   "execution_count": null,
   "id": "748b59af-ac5a-4367-84ad-2e21253dbf4e",
   "metadata": {},
   "outputs": [],
   "source": [
    "# Generate Terra Polygons\n",
    "terra_polygons = xa.core.create_raster_polygons(terra_ds)"
   ]
  },
  {
   "cell_type": "code",
   "execution_count": null,
   "id": "9b6387d6-cf0d-4dbe-b467-6f21a1d15897",
   "metadata": {},
   "outputs": [],
   "source": [
    "terra_poly_gdf = terra_polygons[\"gdf_pixels\"]"
   ]
  },
  {
   "cell_type": "code",
   "execution_count": null,
   "id": "72aee1d5-c613-4682-94fd-28c0a4035037",
   "metadata": {},
   "outputs": [],
   "source": [
    "%%time\n",
    "clip_terra = terra_poly_gdf.overlay(gdf)"
   ]
  },
  {
   "cell_type": "code",
   "execution_count": null,
   "id": "f5b480fd-b146-47d8-95ba-aa7ce0228cb8",
   "metadata": {},
   "outputs": [],
   "source": [
    "final_terra_gdf = terra_poly_gdf[terra_poly_gdf.pix_idx.isin(clip_terra.pix_idx)]"
   ]
  },
  {
   "cell_type": "code",
   "execution_count": null,
   "id": "40d124f0-0740-4a40-a2f5-039c494f49c1",
   "metadata": {},
   "outputs": [],
   "source": [
    "final_terra_gdf.drop(columns=[\"pix_idx\"]).to_csv(\n",
    "    \"../data/processed/terra_polygons.csv\", index=False\n",
    ")"
   ]
  },
  {
   "cell_type": "code",
   "execution_count": null,
   "id": "523eb93c-eb13-4b5f-bc4c-70cdafc0ec79",
   "metadata": {},
   "outputs": [],
   "source": [
    "# Generate CHIRPS Polygons\n",
    "chirps_polygons = xa.core.create_raster_polygons(chirps_ds)"
   ]
  },
  {
   "cell_type": "code",
   "execution_count": null,
   "id": "e23feb26-1365-4071-a260-682e108b3df1",
   "metadata": {},
   "outputs": [],
   "source": [
    "chirps_poly_gdf = chirps_polygons[\"gdf_pixels\"]"
   ]
  },
  {
   "cell_type": "code",
   "execution_count": null,
   "id": "f730be7b-3f0c-4659-aec5-4f4bfae58f63",
   "metadata": {},
   "outputs": [],
   "source": [
    "%%time\n",
    "clip_chirps = chirps_poly_gdf.overlay(gdf)"
   ]
  },
  {
   "cell_type": "code",
   "execution_count": null,
   "id": "224c1c15-a3e5-4167-93f7-1ea6b9de1ebb",
   "metadata": {},
   "outputs": [],
   "source": [
    "final_chirps_gdf = chirps_poly_gdf[chirps_poly_gdf.pix_idx.isin(clip_chirps.pix_idx)]"
   ]
  },
  {
   "cell_type": "code",
   "execution_count": null,
   "id": "da1f001f-c1a8-4cc9-84cb-1bed01189a9c",
   "metadata": {},
   "outputs": [],
   "source": [
    "final_chirps_gdf.drop(columns=[\"pix_idx\"]).to_csv(\n",
    "    \"../data/processed/chirps_polygons.csv\", index=False\n",
    ")"
   ]
  },
  {
   "cell_type": "code",
   "execution_count": null,
   "id": "128d09d3-e94b-4ce1-a52a-a455c9a79e39",
   "metadata": {},
   "outputs": [],
   "source": [
    "len(final_grace_gdf), len(final_terra_gdf), len(final_chirps_gdf)"
   ]
  },
  {
   "cell_type": "code",
   "execution_count": null,
   "id": "437aa241-2fe7-4d8c-ab30-8b7548bae432",
   "metadata": {},
   "outputs": [],
   "source": [
    "fig, ax = plt.subplots(\n",
    "    1, 3, figsize=(20, 25), constrained_layout=True, sharex=True, sharey=True\n",
    ")\n",
    "# grace.lwe_thickness.isel(time=100).plot(ax=ax)\n",
    "# clipped_target_ds.precipitation.isel(time=100).plot(ax=ax)\n",
    "# final_target_gdf.drop(columns=['pix_idx']).plot(ax=ax, color=\"none\", edgecolor=\"blue\")\n",
    "gdf.plot(ax=ax[0], color=\"none\", edgecolor=\"red\")\n",
    "# final_chirps_gdf.plot(color=\"none\", edgecolor=\"blue\", ax=ax)\n",
    "final_terra_gdf.plot(color=\"none\", edgecolor=\"blue\", ax=ax[2])\n",
    "gdf.plot(ax=ax[1], color=\"none\", edgecolor=\"red\")\n",
    "gdf.plot(ax=ax[2], color=\"none\", edgecolor=\"red\")\n",
    "final_chirps_gdf.plot(color=\"none\", edgecolor=\"blue\", ax=ax[1])\n",
    "final_grace_gdf.plot(color=\"none\", edgecolor=\"blue\", ax=ax[0])\n",
    "ax[0].set_axis_off()\n",
    "ax[1].set_axis_off()\n",
    "ax[2].set_axis_off()\n",
    "ax[0].set_title(\"GRACE Grid Cells\")\n",
    "ax[1].set_title(\"CHIRPS Grid Cells\")\n",
    "ax[2].set_title(\"TERRA Grid Cells\")\n",
    "fig.tight_layout()\n",
    "# plt.savefig(\"../reports/grid_cells.png\", bbox_inches=\"tight\")"
   ]
  },
  {
   "cell_type": "code",
   "execution_count": null,
   "id": "bb4833d0-a8bc-40cf-8204-1635df2fbf3a",
   "metadata": {},
   "outputs": [],
   "source": [
    "first_int = gpd.overlay(\n",
    "    final_chirps_gdf.drop(columns=\"pix_idx\"),\n",
    "    final_terra_gdf.drop(columns=\"pix_idx\"),\n",
    "    how=\"intersection\",\n",
    ")"
   ]
  },
  {
   "cell_type": "code",
   "execution_count": null,
   "id": "a2a612e4-111c-4400-a1c9-8a7a15738fec",
   "metadata": {},
   "outputs": [],
   "source": [
    "first_int"
   ]
  },
  {
   "cell_type": "code",
   "execution_count": null,
   "id": "c6f4603e-279b-4194-bee4-7f3285ddca5a",
   "metadata": {},
   "outputs": [],
   "source": [
    "second_int = gpd.overlay(\n",
    "    final_grace_gdf.drop(columns=\"pix_idx\"), first_int, how=\"intersection\"\n",
    ")"
   ]
  },
  {
   "cell_type": "code",
   "execution_count": null,
   "id": "a7cc6527-6f40-4369-8fbd-569d936a3cf7",
   "metadata": {},
   "outputs": [],
   "source": [
    "second_int"
   ]
  },
  {
   "cell_type": "code",
   "execution_count": null,
   "id": "f5083d00-3682-4495-b4ba-fc013c4424ac",
   "metadata": {},
   "outputs": [],
   "source": [
    "second_int[(second_int.lat == 32.75) & (second_int.lon == -89.75)]"
   ]
  },
  {
   "cell_type": "code",
   "execution_count": null,
   "id": "de536acd-cab1-42dc-9b19-aab785d69e70",
   "metadata": {},
   "outputs": [],
   "source": [
    "lat_2_unique, lon_2_unique = (\n",
    "    second_int[(second_int.lat == 32.75) & (second_int.lon == -89.75)].lat_2.unique(),\n",
    "    second_int[(second_int.lat == 32.75) & (second_int.lon == -89.75)].lon_2.unique(),\n",
    ")"
   ]
  },
  {
   "cell_type": "code",
   "execution_count": null,
   "id": "ea93d588-3340-43f7-b9cd-d4b1d8fe59e8",
   "metadata": {},
   "outputs": [],
   "source": [
    "lat_1_unique, lon_1_unique = (\n",
    "    second_int[(second_int.lat == 32.75) & (second_int.lon == -89.75)].lat_1.unique(),\n",
    "    second_int[(second_int.lat == 32.75) & (second_int.lon == -89.75)].lon_1.unique(),\n",
    ")"
   ]
  },
  {
   "cell_type": "code",
   "execution_count": null,
   "id": "fbb5d74d-7413-4b17-9ae0-73abe81aaff0",
   "metadata": {},
   "outputs": [],
   "source": [
    "second_int[(second_int.lat == 32.75) & (second_int.lon == -89.75)].lat_2.iloc[0]"
   ]
  },
  {
   "cell_type": "code",
   "execution_count": null,
   "id": "277fb175-fe78-4d6d-9a7b-f4cf686fac53",
   "metadata": {},
   "outputs": [],
   "source": [
    "final_terra_gdf[final_terra_gdf.lat == 32.520833333333336]"
   ]
  },
  {
   "cell_type": "code",
   "execution_count": null,
   "id": "1294668e-e768-43e9-9a6d-5ce730c3c2ae",
   "metadata": {},
   "outputs": [],
   "source": [
    "second_int"
   ]
  },
  {
   "cell_type": "code",
   "execution_count": null,
   "id": "2dcbc0cd-f9e1-4cad-a9d5-768dab8b7ab7",
   "metadata": {},
   "outputs": [],
   "source": [
    "single_grace_pixel = final_grace_gdf[\n",
    "    (final_grace_gdf.lat == 32.75) & (final_grace_gdf.lon == -89.75)\n",
    "]"
   ]
  },
  {
   "cell_type": "code",
   "execution_count": null,
   "id": "ff43050e-9407-4246-b34b-4dba1ea0ffcb",
   "metadata": {},
   "outputs": [],
   "source": [
    "grace_terra_int = single_grace_pixel.overlay(final_terra_gdf)"
   ]
  },
  {
   "cell_type": "code",
   "execution_count": null,
   "id": "72084809-3097-4c8d-a6a5-e626229386be",
   "metadata": {},
   "outputs": [],
   "source": [
    "grace_chirps_int = single_grace_pixel.overlay(final_chirps_gdf)"
   ]
  },
  {
   "cell_type": "code",
   "execution_count": null,
   "id": "79832532-0afb-4620-9c96-d60d59fcad08",
   "metadata": {},
   "outputs": [],
   "source": [
    "chirps_terra_int = final_chirps_gdf.overlay(final_terra_gdf)"
   ]
  },
  {
   "cell_type": "code",
   "execution_count": null,
   "id": "4f22c210-1661-4f3b-9da0-ad9a239bff5d",
   "metadata": {},
   "outputs": [],
   "source": [
    "chirps_terra_int"
   ]
  },
  {
   "cell_type": "code",
   "execution_count": null,
   "id": "14d9c880-4344-4c21-8288-8f8f6146abf5",
   "metadata": {},
   "outputs": [],
   "source": [
    "chirps_terra_int[chirps_terra_int.pix_idx_1 == 115]"
   ]
  },
  {
   "cell_type": "code",
   "execution_count": null,
   "id": "3a1d7a26-82b6-4851-b401-13b36e5d5ded",
   "metadata": {},
   "outputs": [],
   "source": [
    "chirps_terra_int[chirps_terra_int.pix_idx_2 == 136]"
   ]
  },
  {
   "cell_type": "code",
   "execution_count": null,
   "id": "64b61114-34bb-4d93-95e7-517612bfc2c0",
   "metadata": {},
   "outputs": [],
   "source": [
    "chirps_terra_int[chirps_terra_int.pix_idx_2 == 136].plot(color=\"none\")"
   ]
  },
  {
   "cell_type": "code",
   "execution_count": null,
   "id": "6f04e939-d19d-40af-9a96-431d2b3dbc56",
   "metadata": {},
   "outputs": [],
   "source": [
    "grace_terra_int"
   ]
  },
  {
   "cell_type": "code",
   "execution_count": null,
   "id": "cc63c2db-bf7f-486a-b3bc-49d231197459",
   "metadata": {},
   "outputs": [],
   "source": [
    "fig, ax = plt.subplots(1, 2, figsize=(10, 15))\n",
    "second_int[(second_int.lat == 32.75) & (second_int.lon == -89.75)].plot(\n",
    "    edgecolor=\"red\", color=\"none\", ax=ax[0]\n",
    ")\n",
    "grace_terra_int.plot(edgecolor=\"black\", color=\"none\", ax=ax[0])\n",
    "second_int[(second_int.lat == 32.75) & (second_int.lon == -89.75)].plot(\n",
    "    edgecolor=\"red\", color=\"none\", ax=ax[1]\n",
    ")\n",
    "grace_chirps_int.plot(edgecolor=\"black\", color=\"none\", ax=ax[1])\n",
    "\n",
    "# final_terra_gdf[(final_terra_gdf.lat.isin([32.520833333333336]))].plot(edgecolor=\"red\", color=\"none\", ax=ax[1])"
   ]
  },
  {
   "cell_type": "code",
   "execution_count": null,
   "id": "3ce89e23-40d7-4f4c-8c25-ac889d1140ce",
   "metadata": {},
   "outputs": [],
   "source": [
    "# Generate grid for the training data\n",
    "timestep_list = []\n",
    "for time_step in final_grace_df.time.unique():\n",
    "    ts_df = second_int.copy()\n",
    "    ts_df[\"time\"] = time_step\n",
    "    timestep_list.append(ts_df)"
   ]
  },
  {
   "cell_type": "code",
   "execution_count": null,
   "id": "7edda151-85e9-46cc-8182-afbff6559f0b",
   "metadata": {},
   "outputs": [],
   "source": [
    "grids_df = pd.concat(timestep_list)"
   ]
  },
  {
   "cell_type": "code",
   "execution_count": null,
   "id": "9b665fd7-00d1-4cdd-9a5c-dd8f872b8ed1",
   "metadata": {},
   "outputs": [],
   "source": [
    "chirps_df = chirps_ds.to_dataframe().reset_index()"
   ]
  },
  {
   "cell_type": "code",
   "execution_count": null,
   "id": "0f482508-6e6e-4e39-bd38-2a73b3a4572d",
   "metadata": {},
   "outputs": [],
   "source": [
    "terra_df = terra_ds.to_dataframe().reset_index()"
   ]
  },
  {
   "cell_type": "code",
   "execution_count": null,
   "id": "a2e23e24-d9ec-4107-a0e2-31ffb038b1fa",
   "metadata": {},
   "outputs": [],
   "source": [
    "chirps_df"
   ]
  },
  {
   "cell_type": "code",
   "execution_count": null,
   "id": "e2e6bcfb-85e6-4a22-9f76-ee075e0b93b6",
   "metadata": {},
   "outputs": [],
   "source": [
    "final_grace_df"
   ]
  },
  {
   "cell_type": "code",
   "execution_count": null,
   "id": "5496dc61-680a-41ac-a648-1978010a9a96",
   "metadata": {},
   "outputs": [],
   "source": [
    "grids_df"
   ]
  },
  {
   "cell_type": "code",
   "execution_count": null,
   "id": "49990644-9112-4ab5-902e-744ab612996a",
   "metadata": {},
   "outputs": [],
   "source": [
    "final_gdf = (\n",
    "    grids_df.merge(final_grace_df)\n",
    "    .merge(terra_df.rename(columns={\"lat\": \"lat_2\", \"lon\": \"lon_2\"}))\n",
    "    .merge(chirps_df.rename(columns={\"lat\": \"lat_1\", \"lon\": \"lon_1\"}))\n",
    ")"
   ]
  },
  {
   "cell_type": "code",
   "execution_count": null,
   "id": "07f7575b-bdf7-424d-b3c3-70951df84dee",
   "metadata": {},
   "outputs": [],
   "source": [
    "final_gdf"
   ]
  },
  {
   "cell_type": "code",
   "execution_count": null,
   "id": "8d6d2859-b26a-4e59-946b-19446cad52fc",
   "metadata": {},
   "outputs": [],
   "source": [
    "final_columns = [\n",
    "    \"lat_1\",\n",
    "    \"lon_1\",\n",
    "    \"lat_2\",\n",
    "    \"lon_2\",\n",
    "    \"lat\",\n",
    "    \"lon\",\n",
    "    \"time\",\n",
    "    \"lwe_thickness\",\n",
    "    \"aet\",\n",
    "    \"def\",\n",
    "    \"pdsi\",\n",
    "    \"pet\",\n",
    "    \"pr\",\n",
    "    \"srad\",\n",
    "    \"ro\",\n",
    "    \"soil\",\n",
    "    \"swe\",\n",
    "    \"precip\",\n",
    "]"
   ]
  },
  {
   "cell_type": "code",
   "execution_count": null,
   "id": "95349b58-cf0a-4e8f-96a7-01cb2945c0e9",
   "metadata": {},
   "outputs": [],
   "source": [
    "model_df = final_gdf[final_columns]"
   ]
  },
  {
   "cell_type": "code",
   "execution_count": null,
   "id": "6eb3295e-1038-4186-94e5-23f260470846",
   "metadata": {},
   "outputs": [],
   "source": [
    "model_df.to_csv(\"../data/processed/model_inputs.csv\", index=False)"
   ]
  },
  {
   "cell_type": "code",
   "execution_count": null,
   "id": "c03f07e7-4c54-49d8-b35f-683ad14ce542",
   "metadata": {},
   "outputs": [],
   "source": [
    "# Generate Target GRID"
   ]
  },
  {
   "cell_type": "code",
   "execution_count": null,
   "id": "ffc6188e-02fb-4a36-a5ff-d41199e14c23",
   "metadata": {},
   "outputs": [],
   "source": [
    "target_polygons = pd.read_csv(\"../data/processed/clipped_target_polygons.csv\")"
   ]
  },
  {
   "cell_type": "code",
   "execution_count": null,
   "id": "cdc2ce6b-6cbf-421a-890b-cd31263ed4b5",
   "metadata": {},
   "outputs": [],
   "source": [
    "target_polygons = gpd.GeoDataFrame(\n",
    "    target_polygons, geometry=target_polygons.geometry.apply(wkt.loads), crs=\"EPSG:4326\"\n",
    ")"
   ]
  },
  {
   "cell_type": "code",
   "execution_count": null,
   "id": "074f0096-3cdf-4bcb-b5e2-23c8af13396c",
   "metadata": {},
   "outputs": [],
   "source": [
    "target_int = gpd.overlay(first_int, target_polygons, how=\"intersection\")"
   ]
  },
  {
   "cell_type": "code",
   "execution_count": null,
   "id": "b11f39b9-7299-428b-bada-835447240103",
   "metadata": {},
   "outputs": [],
   "source": [
    "target_int.to_csv(\"../data/processed/target_grid.csv\", index=False)"
   ]
  },
  {
   "cell_type": "code",
   "execution_count": null,
   "id": "ada5e74b-711b-4c06-a886-74893e08d9cc",
   "metadata": {},
   "outputs": [],
   "source": [
    "# Generating parquet files for the target grid\n",
    "for time_step in final_grace_df.time.unique():\n",
    "    # ts_df = second_int.copy()\n",
    "    ts_df = target_int.copy()\n",
    "    ts_df[\"time\"] = time_step\n",
    "    output_date_str = pd.to_datetime(time_step).strftime(\"%Y-%m-%d\")\n",
    "    terra_subset = terra_df[terra_df.time == time_step]\n",
    "    chirps_subset = chirps_df[chirps_df.time == time_step]\n",
    "    if len(terra_subset) > 0:\n",
    "        output_df = ts_df.merge(\n",
    "            terra_subset.rename(columns={\"lat\": \"lat_2\", \"lon\": \"lon_2\"})\n",
    "        ).merge(chirps_subset.rename(columns={\"lat\": \"lat_1\", \"lon\": \"lon_1\"}))\n",
    "        output_df.drop(\n",
    "            columns=[\"geometry\", \"lat_1\", \"lon_1\", \"lat_2\", \"lon_2\"]\n",
    "        ).to_parquet(\n",
    "            os.path.join(\"../data/processed/target_grid\", f\"{output_date_str}\"),\n",
    "            index=False,\n",
    "            compression=\"gzip\",\n",
    "        )\n",
    "    # .merge(chirps_df.rename(columns={\"lat\": \"lat_1\", \"lon\": \"lon_1\"}))"
   ]
  },
  {
   "cell_type": "code",
   "execution_count": null,
   "id": "d4571c5f-e52a-4593-a95f-e2d384046d7a",
   "metadata": {},
   "outputs": [],
   "source": []
  }
 ],
 "metadata": {
  "kernelspec": {
   "display_name": "Python 3",
   "language": "python",
   "name": "python3"
  },
  "language_info": {
   "codemirror_mode": {
    "name": "ipython",
    "version": 3
   },
   "file_extension": ".py",
   "mimetype": "text/x-python",
   "name": "python",
   "nbconvert_exporter": "python",
   "pygments_lexer": "ipython3",
   "version": "3.9.7"
  }
 },
 "nbformat": 4,
 "nbformat_minor": 5
}
