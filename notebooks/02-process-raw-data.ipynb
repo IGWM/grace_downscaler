{
 "cells": [
  {
   "cell_type": "code",
   "execution_count": null,
   "id": "876591fe-63bf-4037-8d1a-f0ad8db27251",
   "metadata": {},
   "outputs": [],
   "source": [
    "# Global Imports\n",
    "import glob\n",
    "import os\n",
    "import warnings\n",
    "from pathlib import Path\n",
    "\n",
    "import geopandas as gpd\n",
    "import matplotlib.pyplot as plt\n",
    "\n",
    "# import xagg as xa\n",
    "import numpy as np\n",
    "import pandas as pd\n",
    "import rioxarray\n",
    "import xarray as xr\n",
    "from shapely import wkt\n",
    "from shapely.geometry import mapping\n",
    "\n",
    "warnings.filterwarnings(\"ignore\", message=\".*initial implementation of Parquet.*\")"
   ]
  },
  {
   "cell_type": "code",
   "execution_count": null,
   "id": "7a8d4104-cf19-44e8-9300-09b8f0faf248",
   "metadata": {},
   "outputs": [],
   "source": [
    "region_file = \"../data/raw/region/region.geojson\""
   ]
  },
  {
   "cell_type": "code",
   "execution_count": null,
   "id": "7e17bea2-017e-4899-a861-166ea7ec9361",
   "metadata": {},
   "outputs": [],
   "source": [
    "gdf = gpd.read_file(region_file, crs=\"EPSG:4326\")"
   ]
  },
  {
   "cell_type": "code",
   "execution_count": null,
   "id": "8895257c-3fa6-4995-a7ff-e188ea349ed0",
   "metadata": {},
   "outputs": [],
   "source": [
    "# Clip CHIRPS to region"
   ]
  },
  {
   "cell_type": "code",
   "execution_count": null,
   "id": "2517e292-8e6e-482b-9e98-d247adf03d91",
   "metadata": {},
   "outputs": [],
   "source": [
    "chirps_dir = \"../data/raw/chirps/*.tif\""
   ]
  },
  {
   "cell_type": "code",
   "execution_count": null,
   "id": "91e984c6-5ea5-4eeb-a67a-894564952c37",
   "metadata": {},
   "outputs": [],
   "source": [
    "chirps_list = sorted(glob.glob(chirps_dir))"
   ]
  },
  {
   "cell_type": "code",
   "execution_count": null,
   "id": "fd321109-064c-4d1f-a064-4b2a134f96e4",
   "metadata": {},
   "outputs": [],
   "source": [
    "chirps_time = xr.Variable(\n",
    "    \"time\", [pd.to_datetime(f\"{Path(_f).name[:-4]}\") for _f in chirps_list]\n",
    ")"
   ]
  },
  {
   "cell_type": "code",
   "execution_count": null,
   "id": "efee9dee-8e90-440c-84f2-96f87d305a74",
   "metadata": {},
   "outputs": [],
   "source": [
    "chirps_ds = xr.concat(\n",
    "    [\n",
    "        xr.open_rasterio(f).squeeze(\"band\").drop(\"band\").to_dataset(name=\"precip\")\n",
    "        for f in chirps_list\n",
    "    ],\n",
    "    dim=chirps_time,\n",
    ")"
   ]
  },
  {
   "cell_type": "code",
   "execution_count": null,
   "id": "3627f07c-7b42-49a3-a132-57716efce682",
   "metadata": {},
   "outputs": [],
   "source": [
    "monthly_chirps = (\n",
    "    chirps_ds.resample(time=\"1MS\").mean(dim=\"time\").rename({\"y\": \"lat\", \"x\": \"lon\"})\n",
    ")"
   ]
  },
  {
   "cell_type": "code",
   "execution_count": null,
   "id": "ec79e484-a112-4ffd-9de8-dce5529464d3",
   "metadata": {},
   "outputs": [],
   "source": [
    "monthly_chirps.to_netcdf(\"../data/processed/chirps.nc\")"
   ]
  },
  {
   "cell_type": "code",
   "execution_count": null,
   "id": "b4a06aa5-201b-4420-a3ab-1b7ba4212e6d",
   "metadata": {},
   "outputs": [],
   "source": [
    "# Convert Terra Data to netcdf"
   ]
  },
  {
   "cell_type": "code",
   "execution_count": null,
   "id": "8c5e41a6-2707-4590-971b-cfa4d7607fd7",
   "metadata": {},
   "outputs": [],
   "source": [
    "terra_dir = \"../data/raw/terra_climate/*.tif\""
   ]
  },
  {
   "cell_type": "code",
   "execution_count": null,
   "id": "397d8614-f14a-4a24-904a-7cafdc9377ba",
   "metadata": {},
   "outputs": [],
   "source": [
    "terra_list = sorted(glob.glob(terra_dir))"
   ]
  },
  {
   "cell_type": "code",
   "execution_count": null,
   "id": "07e20db1-7fd7-4ee6-87fd-bfc8272d476a",
   "metadata": {},
   "outputs": [],
   "source": [
    "Path(terra_list[0]).name[:-4]"
   ]
  },
  {
   "cell_type": "code",
   "execution_count": null,
   "id": "732ab485-6ac1-4a8b-ba89-e924146f13aa",
   "metadata": {},
   "outputs": [],
   "source": [
    "terra_time = xr.Variable(\n",
    "    \"time\", [pd.to_datetime(f\"{Path(_f).name[:-4]}01\") for _f in terra_list]\n",
    ")"
   ]
  },
  {
   "cell_type": "code",
   "execution_count": null,
   "id": "e5ecbf8e-0e7a-46bd-82c7-7c33f1681b01",
   "metadata": {},
   "outputs": [],
   "source": [
    "terra_climate_bands = [\"aet\", \"def\", \"pdsi\", \"pet\", \"pr\", \"srad\", \"ro\", \"soil\", \"swe\"]"
   ]
  },
  {
   "cell_type": "code",
   "execution_count": null,
   "id": "4914d8df-eaa0-40f2-bc4a-af5ecbe4ca5a",
   "metadata": {},
   "outputs": [],
   "source": [
    "terra_da = xr.concat(\n",
    "    [xr.open_rasterio(f).rename({\"y\": \"lat\", \"x\": \"lon\"}) for f in terra_list],\n",
    "    dim=terra_time,\n",
    ")"
   ]
  },
  {
   "cell_type": "code",
   "execution_count": null,
   "id": "1fb0930e-f4d2-4fd7-abb9-f51712a69673",
   "metadata": {},
   "outputs": [],
   "source": [
    "terra_da[\"band\"] = terra_climate_bands"
   ]
  },
  {
   "cell_type": "code",
   "execution_count": null,
   "id": "8e897ff8-a322-45c4-a949-28e9eb31b533",
   "metadata": {},
   "outputs": [],
   "source": [
    "terra_ds = terra_da.to_dataset(dim=\"band\")"
   ]
  },
  {
   "cell_type": "code",
   "execution_count": null,
   "id": "a6980fb8-d8e5-498b-a313-ae5eaf858949",
   "metadata": {},
   "outputs": [],
   "source": [
    "fig, ax = plt.subplots(1, 2)\n",
    "terra_ds.pdsi.isel(time=100).plot(ax=ax[1])\n",
    "gdf.plot(ax=ax[1], edgecolor=\"red\", color=\"none\")\n",
    "chirps_ds.precip.isel(time=100).plot(ax=ax[0])\n",
    "gdf.plot(ax=ax[0], edgecolor=\"red\", color=\"none\")"
   ]
  },
  {
   "cell_type": "code",
   "execution_count": null,
   "id": "3f1df760-cd22-41d9-beae-69e16d162aed",
   "metadata": {},
   "outputs": [],
   "source": [
    "terra_ds.to_netcdf(\"../data/processed/terra.nc\")"
   ]
  },
  {
   "cell_type": "code",
   "execution_count": null,
   "id": "0a68d8ea-0049-4e62-b25d-3765f6c00fba",
   "metadata": {},
   "outputs": [],
   "source": [
    "terra_ds.aet.isel(time=10).plot()"
   ]
  },
  {
   "cell_type": "code",
   "execution_count": null,
   "id": "ca5676ea-a7f4-4ab9-b495-da3dffe00996",
   "metadata": {},
   "outputs": [],
   "source": [
    "chirps_ds.precip.isel(time=10).plot()"
   ]
  },
  {
   "cell_type": "code",
   "execution_count": null,
   "id": "53441dfc-c3b0-47a8-a9b8-6800a140bf56",
   "metadata": {},
   "outputs": [],
   "source": [
    "# Clip GRACE\n",
    "# Loading GRACE dataset\n",
    "grace = xr.open_dataset(\n",
    "    \"../data/raw/mascon/GRCTellus.JPL.200204_202206.GLO.RL06M.MSCNv02CRI.nc\"\n",
    ")[\"lwe_thickness\"].to_dataset()"
   ]
  },
  {
   "cell_type": "code",
   "execution_count": null,
   "id": "c0029bb0-dba4-4cca-be24-9f5eeff44bd9",
   "metadata": {},
   "outputs": [],
   "source": [
    "# Calculate GRACE TWS Anomalies\n",
    "# Clipping the grace ds to mississippi shapefile\n",
    "grace = grace.assign({\"lon\": (((grace.lon + 180) % 360) - 180)}).sortby(\"lon\")\n",
    "grace[\"lwe_thickness\"] = grace[\"lwe_thickness\"].rio.write_crs(\"epsg:4326\")\n",
    "grace.rio.set_spatial_dims(x_dim=\"lon\", y_dim=\"lat\", inplace=True)"
   ]
  },
  {
   "cell_type": "code",
   "execution_count": null,
   "id": "9f69850e-0223-4837-a772-10a1da75fa9b",
   "metadata": {},
   "outputs": [],
   "source": [
    "grace_clipped = grace.rio.clip(\n",
    "    gdf.geometry.apply(mapping), gdf.crs, all_touched=True, drop=True\n",
    ")"
   ]
  },
  {
   "cell_type": "code",
   "execution_count": null,
   "id": "e2299617-8ed6-4cbd-9579-7a12ddee6aa7",
   "metadata": {},
   "outputs": [],
   "source": [
    "final_grace = grace_clipped.resample(time=\"1MS\").mean(dim=\"time\")"
   ]
  },
  {
   "cell_type": "code",
   "execution_count": null,
   "id": "5ee1b2ba-c11d-4f77-baaf-d9dfb7218e8a",
   "metadata": {},
   "outputs": [],
   "source": [
    "final_grace.to_netcdf(\"../data/processed/grace.nc\")"
   ]
  }
 ],
 "metadata": {
  "kernelspec": {
   "display_name": "Python 3",
   "language": "python",
   "name": "python3"
  },
  "language_info": {
   "codemirror_mode": {
    "name": "ipython",
    "version": 3
   },
   "file_extension": ".py",
   "mimetype": "text/x-python",
   "name": "python",
   "nbconvert_exporter": "python",
   "pygments_lexer": "ipython3",
   "version": "3.9.7"
  }
 },
 "nbformat": 4,
 "nbformat_minor": 5
}
