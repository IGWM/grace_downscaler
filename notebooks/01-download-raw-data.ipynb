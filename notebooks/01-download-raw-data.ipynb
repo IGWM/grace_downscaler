{
 "cells": [
  {
   "cell_type": "code",
   "execution_count": null,
   "id": "0b2fe8e3-1038-4ebe-a704-9d393edfbf41",
   "metadata": {},
   "outputs": [],
   "source": [
    "import datetime\n",
    "import glob\n",
    "import json\n",
    "import os\n",
    "import re\n",
    "import time\n",
    "\n",
    "# from siphon.catalog import TDSCatalog\n",
    "from urllib.parse import urlparse\n",
    "\n",
    "import ee\n",
    "import geemap\n",
    "import geopandas\n",
    "import requests"
   ]
  },
  {
   "cell_type": "code",
   "execution_count": null,
   "id": "4e99a1ee-295f-407c-be2e-ebaa985cac53",
   "metadata": {},
   "outputs": [],
   "source": [
    "ee.Authenticate()"
   ]
  },
  {
   "cell_type": "code",
   "execution_count": null,
   "id": "3014f617-7d2a-4178-b35c-c170f97b7252",
   "metadata": {},
   "outputs": [],
   "source": [
    "ee.Initialize()"
   ]
  },
  {
   "cell_type": "code",
   "execution_count": null,
   "id": "55713a59-3178-42a0-bda8-8ea69654b1b3",
   "metadata": {},
   "outputs": [],
   "source": [
    "shp_file = \"../data/raw/region/IGM_MS_coast.shp\""
   ]
  },
  {
   "cell_type": "code",
   "execution_count": null,
   "id": "29b95b2e-ed00-4d88-a0c6-1db66145fa10",
   "metadata": {},
   "outputs": [],
   "source": [
    "region = geopandas.GeoDataFrame.from_file(shp_file)"
   ]
  },
  {
   "cell_type": "code",
   "execution_count": null,
   "id": "e66bff9c-7f49-4fe9-a460-492a770a56fb",
   "metadata": {},
   "outputs": [],
   "source": [
    "region = region[region.shape_Area > 1].reset_index(drop=True)\n",
    "region = region.to_crs(\"EPSG:4326\")"
   ]
  },
  {
   "cell_type": "code",
   "execution_count": null,
   "id": "b31d6e43-97b4-4b21-be7a-64f3c594f418",
   "metadata": {},
   "outputs": [],
   "source": [
    "geojson_file = \"../data/raw/region/region.geojson\""
   ]
  },
  {
   "cell_type": "code",
   "execution_count": null,
   "id": "b13a1705-78c9-4c05-981e-1bbb5e42b8a9",
   "metadata": {},
   "outputs": [],
   "source": [
    "region.to_file(geojson_file, driver=\"GeoJSON\")"
   ]
  },
  {
   "cell_type": "code",
   "execution_count": null,
   "id": "cbe041c3-4048-454a-b6e0-40345b581503",
   "metadata": {},
   "outputs": [],
   "source": [
    "feature = geemap.geojson_to_ee(geojson_file)"
   ]
  },
  {
   "cell_type": "code",
   "execution_count": null,
   "id": "5d723874-838a-493f-bbe4-562219f62642",
   "metadata": {},
   "outputs": [],
   "source": [
    "feature = ee.FeatureCollection(\"TIGER/2018/States\").filter(\n",
    "    ee.Filter.eq(\"NAME\", \"Mississippi\")\n",
    ")"
   ]
  },
  {
   "cell_type": "code",
   "execution_count": null,
   "id": "10424e2a-b720-4b38-a227-20d917475b3e",
   "metadata": {},
   "outputs": [],
   "source": [
    "start_date = \"2002-04-01\"\n",
    "end_date = datetime.datetime.now().strftime(\"%Y-%m-%d\")"
   ]
  },
  {
   "cell_type": "code",
   "execution_count": null,
   "id": "adc9261b-1fcf-4a50-937d-7f6091b6f6c3",
   "metadata": {},
   "outputs": [],
   "source": [
    "months = ee.List.sequence(1, 12)\n",
    "years = ee.List.sequence(2002, 2022)"
   ]
  },
  {
   "cell_type": "code",
   "execution_count": null,
   "id": "2c2de7f2-6897-49cb-baed-4af396394605",
   "metadata": {},
   "outputs": [],
   "source": [
    "terra_climate_bands = [\"aet\", \"def\", \"pdsi\", \"pet\", \"pr\", \"srad\", \"ro\", \"soil\", \"swe\"]"
   ]
  },
  {
   "cell_type": "code",
   "execution_count": null,
   "id": "7e0bf440-a3af-4fd9-806b-aa98085592bb",
   "metadata": {},
   "outputs": [],
   "source": [
    "terra_climate_collection = (\n",
    "    ee.ImageCollection(\"IDAHO_EPSCOR/TERRACLIMATE\")\n",
    "    # .filterBounds(feature)\n",
    "    .filter(ee.Filter.date(start_date, end_date))\n",
    "    .select(terra_climate_bands)\n",
    "    .map(lambda image: image.clipToBoundsAndScale(feature))\n",
    ")"
   ]
  },
  {
   "cell_type": "code",
   "execution_count": null,
   "id": "585bc5b9-18ef-4809-8421-4e4b8f47bdff",
   "metadata": {},
   "outputs": [],
   "source": [
    "terra_climate_out_dir = os.path.join(\"../data/raw/terra_climate\")"
   ]
  },
  {
   "cell_type": "code",
   "execution_count": null,
   "id": "5a5a4948-d0a2-4248-8fbb-c7ccf317bc20",
   "metadata": {},
   "outputs": [],
   "source": [
    "geemap.ee_export_image_collection(terra_climate_collection, terra_climate_out_dir)"
   ]
  },
  {
   "cell_type": "code",
   "execution_count": null,
   "id": "22298e41-ef9e-4e29-a4b7-f74297c70501",
   "metadata": {},
   "outputs": [],
   "source": [
    "# Download GRACE Data"
   ]
  },
  {
   "cell_type": "code",
   "execution_count": null,
   "id": "b8ebe0c4-2362-40cc-a2dd-93ae572d41b9",
   "metadata": {},
   "outputs": [],
   "source": [
    "earthdata_username = \"\"\n",
    "earthdata_pass = \"\"\n",
    "SESSION = requests.session()\n",
    "AUTH = (earthdata_username, earthdata_pass)"
   ]
  },
  {
   "cell_type": "code",
   "execution_count": null,
   "id": "91df4169-ef43-4905-86a2-fea4d80f1415",
   "metadata": {},
   "outputs": [],
   "source": [
    "def download_grace_catalog(grace_url, output_dir):\n",
    "    if not os.path.exists(output_dir):\n",
    "        os.makedirs(output_dir)\n",
    "\n",
    "    grace_catalog = TDSCatalog(grace_url)\n",
    "\n",
    "    for name, ds in grace_catalog.datasets.items():\n",
    "        if \"GRCTellus.JPL\" in name and name.endswith(\"nc\"):\n",
    "            file_url = ds.access_urls[\"dap\"]\n",
    "            file_name = file_url.split(\"/\")[-1]\n",
    "            end_date = re.search(r\"200204_\\d{6}\", file_name).group(0).split(\"_\")[1]\n",
    "            end_date_obj = datetime.datetime.strptime(end_date, \"%Y%m\")\n",
    "            print(end_date_obj)\n",
    "            file_list = glob.glob(os.path.join(output_dir, \"*200204*\"))\n",
    "            parts = urlparse(file_url)\n",
    "            updated_url = parts._replace(path=\"opendap/hyrax\" + parts.path).geturl()\n",
    "            output_path = os.path.join(output_dir, file_name)\n",
    "            print(file_list)\n",
    "            if len(file_list) == 0:\n",
    "                print(\"downloading at empty\")\n",
    "                download_catalog_url(updated_url, output_path)\n",
    "            else:\n",
    "                print(\"delete the  previous file\")\n",
    "                old_file = file_list[0].split(\"/\")[-1]\n",
    "                prev_end_date = (\n",
    "                    re.search(r\"200204_\\d{6}\", old_file).group(0).split(\"_\")[1]\n",
    "                )\n",
    "                prev_end_date_obj = datetime.datetime.strptime(prev_end_date, \"%Y%m\")\n",
    "                if end_date_obj > prev_end_date_obj:\n",
    "                    print(\"deleting the previous file\")\n",
    "                    os.remove(file_list[0])\n",
    "                    download_catalog_url(updated_url, output_path)\n",
    "        if \"SCALE_FACTOR\" in name:\n",
    "            output_file = \"scale_factors.nc\"\n",
    "            output_path = os.path.join(output_dir, output_file)\n",
    "            if not os.path.exists(output_path):\n",
    "                file_url = ds.access_urls[\"dap\"]\n",
    "                parts = urlparse(file_url)\n",
    "                updated_url = parts._replace(path=\"opendap/hyrax\" + parts.path).geturl()\n",
    "                download_catalog_url(updated_url, output_path)\n",
    "\n",
    "    return True"
   ]
  },
  {
   "cell_type": "code",
   "execution_count": null,
   "id": "001be32f-4548-4c33-9a0e-0b17a71e843b",
   "metadata": {},
   "outputs": [],
   "source": [
    "def download_catalog_url(final_url, output_path):\n",
    "    with requests.Session() as session:\n",
    "        r1 = session.request(\"get\", final_url)\n",
    "        r = session.get(r1.url, auth=AUTH)\n",
    "        if r.status_code == 200:\n",
    "            with open(output_path, \"wb\") as f:\n",
    "                f.write(r.content)\n",
    "                return True"
   ]
  },
  {
   "cell_type": "code",
   "execution_count": null,
   "id": "6cc8cd77-b688-4f1e-b641-fc1f21c4c6a0",
   "metadata": {},
   "outputs": [],
   "source": [
    "mascon_dir = \"../data/raw/mascon\""
   ]
  },
  {
   "cell_type": "code",
   "execution_count": null,
   "id": "91d4ed89-3d45-44ea-a50c-35c49144ebac",
   "metadata": {},
   "outputs": [],
   "source": [
    "download_grace_catalog(\n",
    "    \"https://opendap.jpl.nasa.gov/opendap/hyrax/\"\n",
    "    \"allData/tellus/L3/mascon/RL06/JPL/v02/CRI/\"\n",
    "    \"netcdf/catalog.xml\",\n",
    "    mascon_dir,\n",
    ")"
   ]
  },
  {
   "cell_type": "code",
   "execution_count": null,
   "id": "fc61904a-639a-4ba7-bbe7-799df015d4a2",
   "metadata": {},
   "outputs": [],
   "source": [
    "# Download chirps from https://climateserv.servirglobal.net/map"
   ]
  },
  {
   "cell_type": "code",
   "execution_count": null,
   "id": "0489016b-1f05-4ecd-bbab-ec93276d52c8",
   "metadata": {},
   "outputs": [],
   "source": [
    "chirps_ic = (\n",
    "    ee.ImageCollection(\"UCSB-CHG/CHIRPS/DAILY\")\n",
    "    .select(\"precipitation\")\n",
    "    .filterDate(start_date, end_date)\n",
    "    .map(lambda image: image.clipToBoundsAndScale(feature))\n",
    ")"
   ]
  },
  {
   "cell_type": "code",
   "execution_count": null,
   "id": "c58e545f-546c-4a19-b7a5-4ecd101b5ebc",
   "metadata": {},
   "outputs": [],
   "source": [
    "def function1(y):\n",
    "    def function2(m):\n",
    "        return (\n",
    "            chirps_ic.filter(ee.Filter.calendarRange(y, y, \"year\"))\n",
    "            .filter(ee.Filter.calendarRange(m, m, \"month\"))\n",
    "            .mean()\n",
    "            .set(\"month\", m)\n",
    "            .set(\"year\", y)\n",
    "        )\n",
    "\n",
    "    return months.map(function2)"
   ]
  },
  {
   "cell_type": "code",
   "execution_count": null,
   "id": "da025a37-8233-47b3-88aa-954304fa2f81",
   "metadata": {},
   "outputs": [],
   "source": [
    "chirps_monthly = ee.ImageCollection.fromImages(years.map(function1).flatten())"
   ]
  },
  {
   "cell_type": "code",
   "execution_count": null,
   "id": "9edef96e-09b8-462d-a454-50825ecc37b1",
   "metadata": {},
   "outputs": [],
   "source": [
    "chirps_out_dir = os.path.join(\"../data/raw/chirps\")"
   ]
  }
 ],
 "metadata": {
  "kernelspec": {
   "display_name": "Python 3",
   "language": "python",
   "name": "python3"
  },
  "language_info": {
   "codemirror_mode": {
    "name": "ipython",
    "version": 3
   },
   "file_extension": ".py",
   "mimetype": "text/x-python",
   "name": "python",
   "nbconvert_exporter": "python",
   "pygments_lexer": "ipython3",
   "version": "3.9.7"
  }
 },
 "nbformat": 4,
 "nbformat_minor": 5
}
