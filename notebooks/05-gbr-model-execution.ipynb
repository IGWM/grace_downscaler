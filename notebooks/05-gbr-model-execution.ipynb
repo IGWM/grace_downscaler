{
 "cells": [
  {
   "cell_type": "code",
   "execution_count": null,
   "id": "edcef4e8-9813-4579-8c31-ba0d475ac9e2",
   "metadata": {},
   "outputs": [],
   "source": [
    "import glob\n",
    "\n",
    "import numpy as np\n",
    "import pandas as pd\n",
    "import tensorflow as tf\n",
    "import tensorflow_addons as tfa\n",
    "import xarray as xr\n",
    "from keras.layers import Dense\n",
    "from keras.models import Sequential\n",
    "from sklearn import datasets, ensemble\n",
    "from sklearn.inspection import permutation_importance\n",
    "from sklearn.model_selection import train_test_split\n",
    "from sklearn.preprocessing import StandardScaler"
   ]
  },
  {
   "cell_type": "code",
   "execution_count": null,
   "id": "dde7f751-4f4a-4411-8fb7-348b633860ec",
   "metadata": {},
   "outputs": [],
   "source": [
    "model_df = pd.read_csv(\"../data/processed/model_inputs.csv\")"
   ]
  },
  {
   "cell_type": "code",
   "execution_count": null,
   "id": "de405845-e778-41e1-9b01-d9acbec8c511",
   "metadata": {},
   "outputs": [],
   "source": [
    "list(model_df)"
   ]
  },
  {
   "cell_type": "code",
   "execution_count": null,
   "id": "cd98dd75-02a5-46c0-b652-35b53b57b892",
   "metadata": {},
   "outputs": [],
   "source": [
    "input_df = model_df[\n",
    "    [\n",
    "        \"lat_2\",\n",
    "        \"lon_2\",\n",
    "        \"time\",\n",
    "        \"aet\",\n",
    "        \"def\",\n",
    "        \"pdsi\",\n",
    "        \"pet\",\n",
    "        \"pr\",\n",
    "        \"srad\",\n",
    "        \"ro\",\n",
    "        \"soil\",\n",
    "        \"swe\",\n",
    "        \"precip\",\n",
    "        \"lwe_thickness\",\n",
    "    ]\n",
    "]\n",
    "input_df[\"precip\"] = input_df[\"precip\"].fillna(0)"
   ]
  },
  {
   "cell_type": "code",
   "execution_count": null,
   "id": "0e66a646-43a8-444a-8557-9d78db96f5b3",
   "metadata": {},
   "outputs": [],
   "source": [
    "input_df = input_df.dropna().reset_index(drop=True)"
   ]
  },
  {
   "cell_type": "code",
   "execution_count": null,
   "id": "ceb883a4-5f1d-4e06-984a-9e0c477ca792",
   "metadata": {},
   "outputs": [],
   "source": [
    "input_df"
   ]
  },
  {
   "cell_type": "code",
   "execution_count": null,
   "id": "b1888665-5a26-45c0-b027-e26197137b4a",
   "metadata": {},
   "outputs": [],
   "source": [
    "X_df = input_df.iloc[:, 0:13]"
   ]
  },
  {
   "cell_type": "code",
   "execution_count": null,
   "id": "2d8ad8ee-58ad-4ba8-85e5-e8f1348752b5",
   "metadata": {},
   "outputs": [],
   "source": [
    "y_df = input_df.iloc[:, -1]"
   ]
  },
  {
   "cell_type": "code",
   "execution_count": null,
   "id": "f33a0131-9304-4836-8538-91b3b2900294",
   "metadata": {},
   "outputs": [],
   "source": [
    "time_dict = dict(zip(X_df[\"time\"].unique().tolist(), range(0, X_df.time.nunique())))"
   ]
  },
  {
   "cell_type": "code",
   "execution_count": null,
   "id": "c498ef28-cb68-4900-872a-216c98522c3a",
   "metadata": {},
   "outputs": [],
   "source": [
    "X_df[\"time\"] = X_df.time.map(time_dict)"
   ]
  },
  {
   "cell_type": "code",
   "execution_count": null,
   "id": "a9fef16b-bae2-4ef5-b955-85cbbaddb754",
   "metadata": {},
   "outputs": [],
   "source": [
    "X_train, X_test, y_train, y_test = train_test_split(\n",
    "    X_df.to_numpy(), y_df.to_numpy(), test_size=0.2\n",
    ")"
   ]
  },
  {
   "cell_type": "code",
   "execution_count": null,
   "id": "58da2336-ef07-4774-9ef5-bdd1ba90cfbd",
   "metadata": {},
   "outputs": [],
   "source": [
    "scaler = StandardScaler()"
   ]
  },
  {
   "cell_type": "code",
   "execution_count": null,
   "id": "c540d8c6-6d12-4784-a411-d921428266e9",
   "metadata": {},
   "outputs": [],
   "source": [
    "X_train_scaled = scaler.fit_transform(X_train)"
   ]
  },
  {
   "cell_type": "code",
   "execution_count": null,
   "id": "5a5032ca-0e9a-4492-8de1-1e7ec6df80a2",
   "metadata": {},
   "outputs": [],
   "source": [
    "X_test_scaled = scaler.transform(X_test)"
   ]
  },
  {
   "cell_type": "code",
   "execution_count": null,
   "id": "9e762a76-54b9-4beb-bdab-3adcc174fadc",
   "metadata": {},
   "outputs": [],
   "source": [
    "n_features = X_train.shape[1]"
   ]
  },
  {
   "cell_type": "code",
   "execution_count": null,
   "id": "6668bfb4-18f2-481c-a452-ef7df66e1f4f",
   "metadata": {},
   "outputs": [],
   "source": [
    "# Setting up error metrics\n",
    "rmse = tf.keras.metrics.RootMeanSquaredError(name=\"root_mean_squared_error\", dtype=None)"
   ]
  },
  {
   "cell_type": "code",
   "execution_count": null,
   "id": "95eb9d61-e0a6-4be8-b6ca-effee6fd4af1",
   "metadata": {},
   "outputs": [],
   "source": [
    "params = {\n",
    "    \"n_estimators\": 300,\n",
    "    \"max_depth\": 100,\n",
    "    \"min_samples_split\": len(X_df[X_df.time == 0]),\n",
    "    \"learning_rate\": 0.01,\n",
    "    \"loss\": \"squared_error\",\n",
    "}"
   ]
  },
  {
   "cell_type": "code",
   "execution_count": null,
   "id": "993aa3f0-c21c-456b-b87d-f866c362a876",
   "metadata": {},
   "outputs": [],
   "source": [
    "%%time\n",
    "reg = ensemble.GradientBoostingRegressor(**params)"
   ]
  },
  {
   "cell_type": "code",
   "execution_count": null,
   "id": "0be7dbfc-1fda-442f-b6da-6037c283efe0",
   "metadata": {
    "tags": []
   },
   "outputs": [],
   "source": [
    "%%time\n",
    "reg.fit(X_train_scaled, y_train)"
   ]
  },
  {
   "cell_type": "code",
   "execution_count": null,
   "id": "628c8404-7cec-40b2-9f08-0d4526be69c5",
   "metadata": {},
   "outputs": [],
   "source": [
    "y_pred = reg.predict(X_test_scaled)"
   ]
  },
  {
   "cell_type": "code",
   "execution_count": null,
   "id": "6b06f032-cdca-435e-8b63-454645930dd9",
   "metadata": {},
   "outputs": [],
   "source": [
    "from sklearn import metrics\n",
    "\n",
    "print(\"Mean Absolute Error:\", metrics.mean_absolute_error(y_test, y_pred))\n",
    "print(\"Mean Squared Error:\", metrics.mean_squared_error(y_test, y_pred))\n",
    "print(\"Root Mean Squared Error:\", np.sqrt(metrics.mean_squared_error(y_test, y_pred)))"
   ]
  },
  {
   "cell_type": "code",
   "execution_count": null,
   "id": "6dc23334-4095-4653-8e50-0e635f212a76",
   "metadata": {},
   "outputs": [],
   "source": [
    "metrics.r2_score(y_test, y_pred)"
   ]
  },
  {
   "cell_type": "code",
   "execution_count": null,
   "id": "b784d494-092a-4b68-a9f9-0631b09c5366",
   "metadata": {},
   "outputs": [],
   "source": [
    "import pickle\n",
    "\n",
    "filename = \"../models/gbr_model.sav\""
   ]
  },
  {
   "cell_type": "code",
   "execution_count": null,
   "id": "c01a1d9b-d9c9-4d4f-a9a5-4493efd9612c",
   "metadata": {},
   "outputs": [],
   "source": [
    "pickle.dump(reg, open(filename, \"wb\"))"
   ]
  },
  {
   "cell_type": "code",
   "execution_count": null,
   "id": "a5c6b822-a565-4b6a-bf4f-8354d851c28a",
   "metadata": {},
   "outputs": [],
   "source": [
    "model = pickle.load(open(filename, \"rb\"))"
   ]
  },
  {
   "cell_type": "code",
   "execution_count": null,
   "id": "0112a8f5-ac20-4447-8046-cfb941cf232d",
   "metadata": {},
   "outputs": [],
   "source": [
    "from pathlib import Path\n",
    "\n",
    "\n",
    "def predict_ts(ts_file):\n",
    "    ts_df = pd.read_parquet(ts_file)\n",
    "    ts_df[\"precip\"] = ts_df[\"precip\"].fillna(0)\n",
    "    ts_df[\"time\"] = ts_df.time.dt.strftime(\"%Y-%m-%d\").map(time_dict)\n",
    "    ts_df = ts_df.dropna().reset_index(drop=True)\n",
    "    if len(ts_df) > 0:\n",
    "        ts_test_x = ts_df.to_numpy()\n",
    "        ts_step_scaled = scaler.transform(ts_test_x)\n",
    "        ts_pred = model.predict(ts_step_scaled)\n",
    "        output_df = pd.DataFrame(ts_pred, columns=[\"lwe_thickness\"])\n",
    "        final_ts_df = pd.concat([ts_df[[\"lat\", \"lon\", \"time\"]], output_df], axis=1)\n",
    "        final_ts_df[\"time\"] = final_ts_df[\"time\"].map(\n",
    "            dict(zip(time_dict.values(), time_dict.keys()))\n",
    "        )\n",
    "        final_ts_df[\"time\"] = pd.to_datetime(final_ts_df.time)\n",
    "        ds = final_ts_df.groupby([\"lat\", \"lon\", \"time\"]).mean().to_xarray()\n",
    "        return ds"
   ]
  },
  {
   "cell_type": "code",
   "execution_count": null,
   "id": "addc24b0-d363-4aaf-ad9e-241883c68d9e",
   "metadata": {},
   "outputs": [],
   "source": [
    "from pathlib import Path"
   ]
  },
  {
   "cell_type": "code",
   "execution_count": null,
   "id": "7ab639ef-24fe-4202-9f27-d33f9c6bf59b",
   "metadata": {},
   "outputs": [],
   "source": [
    "xr.concat(\n",
    "    [\n",
    "        predict_ts(_file)\n",
    "        for _file in sorted(glob.glob(\"../data/processed/target_grid/*\"))\n",
    "        if Path(_file).name in time_dict\n",
    "    ],\n",
    "    dim=\"time\",\n",
    ").to_netcdf(\"../data/processed/gbr_output.nc\")"
   ]
  },
  {
   "cell_type": "code",
   "execution_count": null,
   "id": "e0338955-9479-455e-ab72-c9520c44bfee",
   "metadata": {},
   "outputs": [],
   "source": [
    "predicted_grace = xr.open_dataset(\"../data/processed/gbr_output.nc\")"
   ]
  },
  {
   "cell_type": "code",
   "execution_count": null,
   "id": "82b87a6e-2871-4258-93df-61504d4b13a8",
   "metadata": {},
   "outputs": [],
   "source": [
    "actual_grace = xr.open_dataset(\"../data/processed/grace.nc\")"
   ]
  },
  {
   "cell_type": "code",
   "execution_count": null,
   "id": "3e5b11a8-f8cf-4c1c-a3ee-d9a63fb938ef",
   "metadata": {},
   "outputs": [],
   "source": [
    "actual_grace"
   ]
  },
  {
   "cell_type": "code",
   "execution_count": null,
   "id": "7a1e912b-1f17-4b3d-953f-ee4538fbc644",
   "metadata": {},
   "outputs": [],
   "source": [
    "predicted_grace"
   ]
  },
  {
   "cell_type": "code",
   "execution_count": null,
   "id": "70f73e37-4d0c-4d36-b066-f14d612b1427",
   "metadata": {},
   "outputs": [],
   "source": [
    "model_df[model_df.time == \"2002-04-01\"]"
   ]
  },
  {
   "cell_type": "code",
   "execution_count": null,
   "id": "b43a0442-0e70-4344-ac89-da9909288efd",
   "metadata": {},
   "outputs": [],
   "source": [
    "input_df[input_df.time == \"2002-04-01\"]"
   ]
  },
  {
   "cell_type": "code",
   "execution_count": null,
   "id": "d4cf5c3c-46b1-4643-8b94-90f68f52307e",
   "metadata": {},
   "outputs": [],
   "source": [
    "import matplotlib.pyplot as plt\n",
    "\n",
    "fig, ax = plt.subplots(1, 2, figsize=(15, 10))\n",
    "predicted_grace.lwe_thickness.sel(time=\"2008-01-01\").plot(ax=ax[1])\n",
    "actual_grace.lwe_thickness.sel(time=\"2008-01-01\").plot(ax=ax[0])\n",
    "# plt.savefig(\"../reports/figures/actual_vs_dl.png\")"
   ]
  },
  {
   "cell_type": "code",
   "execution_count": null,
   "id": "355bf4e2-5222-42b8-a58f-c3a9903b27d5",
   "metadata": {},
   "outputs": [],
   "source": [
    "import matplotlib.pyplot as plt\n",
    "\n",
    "fig, ax = plt.subplots(1, 2, figsize=(15, 10))\n",
    "predicted_grace.lwe_thickness.sel(time=\"2008-01-01\").plot(ax=ax[1])\n",
    "actual_grace.lwe_thickness.sel(time=\"2008-01-01\").plot(ax=ax[0])\n",
    "# plt.savefig(\"../reports/figures/actual_vs_dl.png\")"
   ]
  },
  {
   "cell_type": "code",
   "execution_count": null,
   "id": "838d2204-b9c8-4f09-94ef-3104758679bd",
   "metadata": {},
   "outputs": [],
   "source": [
    "import matplotlib.pyplot as plt\n",
    "\n",
    "fig, ax = plt.subplots(1, 1, figsize=(25, 10))\n",
    "predicted_grace.lwe_thickness.mean([\"lat\", \"lon\"]).plot(ax=ax, label=\"Predicted\")\n",
    "actual_grace.lwe_thickness.mean([\"lat\", \"lon\"]).plot(ax=ax, label=\"Original\")\n",
    "plt.legend()\n",
    "# plt.savefig(\"mean.png\")"
   ]
  },
  {
   "cell_type": "code",
   "execution_count": null,
   "id": "ecafccbd-5216-4956-b8b5-9580b4cdcf25",
   "metadata": {},
   "outputs": [],
   "source": []
  }
 ],
 "metadata": {
  "kernelspec": {
   "display_name": "Python 3",
   "language": "python",
   "name": "python3"
  },
  "language_info": {
   "codemirror_mode": {
    "name": "ipython",
    "version": 3
   },
   "file_extension": ".py",
   "mimetype": "text/x-python",
   "name": "python",
   "nbconvert_exporter": "python",
   "pygments_lexer": "ipython3",
   "version": "3.9.7"
  }
 },
 "nbformat": 4,
 "nbformat_minor": 5
}
